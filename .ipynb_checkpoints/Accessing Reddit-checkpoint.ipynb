{
 "cells": [
  {
   "cell_type": "markdown",
   "metadata": {},
   "source": [
    "I plan on using PRAW for accessing the Reddit API \n",
    "\n",
    "Here's how to get setup: https://praw.readthedocs.io/en/latest/\n",
    "\n"
   ]
  },
  {
   "cell_type": "code",
   "execution_count": 1,
   "metadata": {},
   "outputs": [],
   "source": [
    "import requests\n",
    "import requests.auth\n",
    "import pandas as pd\n",
    "secret = '*****************'\n",
    "clientID =  '*******'\n",
    "username = \"********\"\n",
    "password = \"********\""
   ]
  },
  {
   "cell_type": "markdown",
   "metadata": {},
   "source": [
    "Request a token:"
   ]
  },
  {
   "cell_type": "code",
   "execution_count": 2,
   "metadata": {},
   "outputs": [
    {
     "name": "stdout",
     "output_type": "stream",
     "text": [
      "79814451761-7RzoP3lR_MzUSRnVrUzd1gpcAwQ\n"
     ]
    }
   ],
   "source": [
    "\n",
    "client_auth = requests.auth.HTTPBasicAuth(clientID, secret)\n",
    "post_data = {\"grant_type\": \"password\", \"username\": username, \"password\": password }\n",
    "headers = {\"User-Agent\": \"ChangeMeClient/0.1 by YourUsername\"}\n",
    "response = requests.post(\"https://www.reddit.com/api/v1/access_token\", auth=client_auth, data=post_data, headers=headers)\n",
    "token = response.json()['access_token']\n",
    "response.json()\n",
    "print(token)\n"
   ]
  },
  {
   "cell_type": "markdown",
   "metadata": {},
   "source": [
    "Use the token:"
   ]
  },
  {
   "cell_type": "code",
   "execution_count": 3,
   "metadata": {},
   "outputs": [],
   "source": [
    " headers = {\"Authorization\": \"bearer \" + token , \"User-Agent\": \"ChangeMeClient/0.1 by YourUsername\"}\n",
    "response = requests.get(\"https://oauth.reddit.com/api/v1/me\", headers=headers)\n",
    "#response.json()\n"
   ]
  },
  {
   "cell_type": "markdown",
   "metadata": {},
   "source": [
    "## Accessing the Python Reddit API Wrapper"
   ]
  },
  {
   "cell_type": "code",
   "execution_count": 4,
   "metadata": {},
   "outputs": [],
   "source": [
    "import praw\n",
    "\n",
    "\n",
    "reddit = praw.Reddit(client_id= clientID,\n",
    "                     client_secret= secret,\n",
    "                     user_agent= '/u/' + username,\n",
    "                     username= username,\n",
    "                     password= password)\n",
    "#convert the instance to read only mode by:\n",
    "#reddit.read_only = True"
   ]
  },
  {
   "cell_type": "code",
   "execution_count": 5,
   "metadata": {},
   "outputs": [
    {
     "name": "stdout",
     "output_type": "stream",
     "text": [
      "False\n"
     ]
    }
   ],
   "source": [
    "print(reddit.read_only)\n"
   ]
  },
  {
   "cell_type": "code",
   "execution_count": 11,
   "metadata": {
    "scrolled": true
   },
   "outputs": [
    {
     "name": "stdout",
     "output_type": "stream",
     "text": [
      "Either hard or no at all. \n",
      "That's why they both are going to be put behind the bars sooner or later. \n",
      "Too bad it will be never released. It could be one of the best games ever made. I hope one day the series will be resurrected.\n"
     ]
    }
   ],
   "source": [
    "user = reddit.redditor('kanyebreeze')\n",
    "\n",
    "for comment in user.comments.new():\n",
    "    print(comment.body)\n",
    "    \n",
    "\n",
    "\n",
    "\n"
   ]
  },
  {
   "cell_type": "code",
   "execution_count": null,
   "metadata": {},
   "outputs": [],
   "source": []
  }
 ],
 "metadata": {
  "kernelspec": {
   "display_name": "Python 3",
   "language": "python",
   "name": "python3"
  },
  "language_info": {
   "codemirror_mode": {
    "name": "ipython",
    "version": 3
   },
   "file_extension": ".py",
   "mimetype": "text/x-python",
   "name": "python",
   "nbconvert_exporter": "python",
   "pygments_lexer": "ipython3",
   "version": "3.6.2"
  }
 },
 "nbformat": 4,
 "nbformat_minor": 2
}
