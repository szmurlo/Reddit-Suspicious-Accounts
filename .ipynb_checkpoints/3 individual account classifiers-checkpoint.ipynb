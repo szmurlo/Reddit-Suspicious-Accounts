{
 "cells": [
  {
   "cell_type": "markdown",
   "metadata": {},
   "source": [
    "This notebook combines text data for every reddit account and classifies them with two sklearn classifiers"
   ]
  },
  {
   "cell_type": "code",
   "execution_count": 112,
   "metadata": {},
   "outputs": [],
   "source": [
    "import praw\n",
    "import pandas as pd\n",
    "import datetime\n",
    "import numpy as np\n",
    "import nltk\n",
    "import sklearn\n",
    "import sklearn.naive_bayes\n",
    "import sklearn.neural_network\n",
    "import sklearn.decomposition\n",
    "\n",
    "import matplotlib.pyplot as plt #Plots\n",
    "from matplotlib.colors import ListedColormap\n",
    "import seaborn #Makes plots look nice, also heatmaps\n",
    "secret = '****************'\n",
    "clientID =  '***********'\n",
    "username = \"*********\"\n",
    "password = \"*********\""
   ]
  },
  {
   "cell_type": "code",
   "execution_count": 113,
   "metadata": {},
   "outputs": [],
   "source": [
    "reddit = praw.Reddit(client_id= clientID,\n",
    "                     client_secret= secret,\n",
    "                     user_agent= '/u/' + username,\n",
    "                     username= username,\n",
    "                     password= password)\n",
    "#convert the instance to read only mode by:\n",
    "reddit.read_only = True"
   ]
  },
  {
   "cell_type": "code",
   "execution_count": 114,
   "metadata": {},
   "outputs": [],
   "source": [
    "data = pd.read_excel('C:\\\\Users\\\\Andrew\\\\Documents\\\\jupyter studies\\\\reddit\\\\moderatorList.xlsx')\n",
    "data.moderator = data.moderator.apply(lambda x: x.split()[0])"
   ]
  },
  {
   "cell_type": "code",
   "execution_count": 115,
   "metadata": {},
   "outputs": [],
   "source": [
    "data = pd.read_pickle('C:\\\\Users\\\\Andrew\\\\Documents\\\\jupyter studies\\\\reddit\\\\AllAccounts.pkl')"
   ]
  },
  {
   "cell_type": "code",
   "execution_count": 116,
   "metadata": {},
   "outputs": [],
   "source": [
    "data['nym']=data.user.apply(lambda x: x.name)"
   ]
  },
  {
   "cell_type": "code",
   "execution_count": 117,
   "metadata": {},
   "outputs": [],
   "source": [
    "nome = []\n",
    "heck = []\n",
    "for index, row in data.iterrows():\n",
    "    if row.nym not in nome:\n",
    "        if row.hack==1:\n",
    "            nome.append(row.nym)\n",
    "            heck.append(row.hack)"
   ]
  },
  {
   "cell_type": "code",
   "execution_count": 118,
   "metadata": {},
   "outputs": [],
   "source": [
    " simple =data.groupby('nym')['text'].apply(lambda x: x.sum())"
   ]
  },
  {
   "cell_type": "code",
   "execution_count": 119,
   "metadata": {},
   "outputs": [],
   "source": [
    "simple =simple.add_suffix('_Count').reset_index()"
   ]
  },
  {
   "cell_type": "code",
   "execution_count": 120,
   "metadata": {},
   "outputs": [
    {
     "data": {
      "text/plain": [
       "191"
      ]
     },
     "execution_count": 120,
     "metadata": {},
     "output_type": "execute_result"
    }
   ],
   "source": [
    "simple['hack']=0\n",
    "for index, row in simple.iterrows():\n",
    "    if row.nym.endswith('_Count'):\n",
    "        simple.loc[index,'nym'] = row.nym[:-6]\n",
    "\n",
    "    if row.nym[:-6] in nome:\n",
    "        simple.loc[index,'hack']= 1\n",
    "\n",
    "   \n",
    "len(simple[simple.hack==0])"
   ]
  },
  {
   "cell_type": "code",
   "execution_count": 121,
   "metadata": {},
   "outputs": [
    {
     "data": {
      "text/plain": [
       "326"
      ]
     },
     "execution_count": 121,
     "metadata": {},
     "output_type": "execute_result"
    }
   ],
   "source": [
    "len(simple[simple.hack==1])"
   ]
  },
  {
   "cell_type": "code",
   "execution_count": 122,
   "metadata": {
    "scrolled": false
   },
   "outputs": [
    {
     "data": {
      "text/html": [
       "<div>\n",
       "<style scoped>\n",
       "    .dataframe tbody tr th:only-of-type {\n",
       "        vertical-align: middle;\n",
       "    }\n",
       "\n",
       "    .dataframe tbody tr th {\n",
       "        vertical-align: top;\n",
       "    }\n",
       "\n",
       "    .dataframe thead th {\n",
       "        text-align: right;\n",
       "    }\n",
       "</style>\n",
       "<table border=\"1\" class=\"dataframe\">\n",
       "  <thead>\n",
       "    <tr style=\"text-align: right;\">\n",
       "      <th></th>\n",
       "      <th>nym</th>\n",
       "      <th>text</th>\n",
       "      <th>hack</th>\n",
       "    </tr>\n",
       "  </thead>\n",
       "  <tbody>\n",
       "    <tr>\n",
       "      <th>512</th>\n",
       "      <td>wadeharriot</td>\n",
       "      <td>Looks like Trump isn't doing quite wellRussia'...</td>\n",
       "      <td>1</td>\n",
       "    </tr>\n",
       "    <tr>\n",
       "      <th>513</th>\n",
       "      <td>walterwhite1962</td>\n",
       "      <td>Perfect ass</td>\n",
       "      <td>1</td>\n",
       "    </tr>\n",
       "    <tr>\n",
       "      <th>514</th>\n",
       "      <td>wannabelikeme</td>\n",
       "      <td>Sevgi Fernandez: Our voices are more powerful ...</td>\n",
       "      <td>0</td>\n",
       "    </tr>\n",
       "    <tr>\n",
       "      <th>515</th>\n",
       "      <td>xameg</td>\n",
       "      <td>Heroes of the Storm EU 2 keys giveawayI'll jus...</td>\n",
       "      <td>1</td>\n",
       "    </tr>\n",
       "    <tr>\n",
       "      <th>516</th>\n",
       "      <td>zettapede</td>\n",
       "      <td>Hillary Clinton releases new attack ad on Dona...</td>\n",
       "      <td>0</td>\n",
       "    </tr>\n",
       "  </tbody>\n",
       "</table>\n",
       "</div>"
      ],
      "text/plain": [
       "                 nym                                               text  hack\n",
       "512      wadeharriot  Looks like Trump isn't doing quite wellRussia'...     1\n",
       "513  walterwhite1962                                        Perfect ass     1\n",
       "514    wannabelikeme  Sevgi Fernandez: Our voices are more powerful ...     0\n",
       "515            xameg  Heroes of the Storm EU 2 keys giveawayI'll jus...     1\n",
       "516        zettapede  Hillary Clinton releases new attack ad on Dona...     0"
      ]
     },
     "execution_count": 122,
     "metadata": {},
     "output_type": "execute_result"
    }
   ],
   "source": [
    "#simple.drop(simple.tail(0).index,inplace=True)\n",
    "#simple.tail()"
   ]
  },
  {
   "cell_type": "code",
   "execution_count": 124,
   "metadata": {},
   "outputs": [],
   "source": [
    "stop_words_basic = nltk.corpus.stopwords.words('english')\n",
    "stemmer_basic = nltk.stem.snowball.SnowballStemmer('english')\n",
    "lemmer_basic = nltk.stem.WordNetLemmatizer()\n",
    "\n",
    "def normalizeTokens(tokenLst, stopwordLst = None, stemmer = None, lemmer = None):\n",
    "    #We can use a generator here as we just need to iterate over it\n",
    "\n",
    "    #Lowering the case and removing non-words\n",
    "    workingIter = (w.lower() for w in tokenLst if w.isalpha())\n",
    "\n",
    "    #Now we can use the semmer, if provided\n",
    "    if stemmer is not None:\n",
    "        workingIter = (stemmer.stem(w) for w in workingIter)\n",
    "\n",
    "    #And the lemmer\n",
    "    if lemmer is not None:\n",
    "        workingIter = (lemmer.lemmatize(w) for w in workingIter)\n",
    "\n",
    "    #And remove the stopwords\n",
    "    if stopwordLst is not None:\n",
    "        workingIter = (w for w in workingIter if w not in stopwordLst)\n",
    "    #We will return a list with the stopwords removed\n",
    "    return list(workingIter)\n",
    "\n",
    "def generateVecs(df):\n",
    "    df['tokenized_text'] = df['text'].apply(lambda x: nltk.word_tokenize(x))\n",
    "    df['normalized_text'] = df['tokenized_text'].apply(lambda x: normalizeTokens(x, stopwordLst = stop_words_basic, stemmer = stemmer_basic))\n",
    "    redditCountVectorizer = sklearn.feature_extraction.text.TfidfVectorizer(max_df=0.5, min_df=3, stop_words='english', norm='l2')\n",
    "    redditVects = redditCountVectorizer.fit_transform([' '.join(l) for l in df['normalized_text']])\n",
    "    df['vect'] = [np.array(v).flatten() for v in redditVects.todense()]\n",
    "    return df\n",
    "def evaluateClassifier(clf, testDF):\n",
    "    predictions = clf.predict(np.stack(testDF['vect'], axis=0))\n",
    "    classes = []\n",
    "    results = {\n",
    "        'Error_Rate' : [],\n",
    "        'AUC' : [],\n",
    "        'Precision' : [],\n",
    "        'Average_Precision' : [],\n",
    "        'Recall' : [],\n",
    "        }\n",
    "\n",
    "    for cat in set(testDF['hack']):\n",
    "        preds = [True if (c == cat) else False for c in predictions]\n",
    "        acts = [True if (c == cat) else False for c in testDF['hack']]\n",
    "        classes.append(cat)\n",
    "        results['AUC'].append(sklearn.metrics.roc_auc_score(acts, preds))\n",
    "        results['Average_Precision'].append(sklearn.metrics.average_precision_score(acts, preds))\n",
    "        results['Precision'].append(sklearn.metrics.precision_score(acts, preds))\n",
    "        results['Recall'].append(sklearn.metrics.recall_score(acts, preds))\n",
    "        results['Error_Rate'].append(1 -  sklearn.metrics.accuracy_score(acts, preds))\n",
    "    df = pd.DataFrame(results, index=classes)\n",
    "    df.index.rename('hack', inplace=True)\n",
    "    return df\n",
    "\n",
    "def plotConfusionMatrix(clf, testDF):\n",
    "    predictions = clf.predict(np.stack(testDF['vect'], axis=0))\n",
    "    mat = sklearn.metrics.confusion_matrix(predictions, testDF['hack'])\n",
    "    seaborn.heatmap(mat.T, square=True, annot=True, fmt='d', cbar=False,\n",
    "                    xticklabels=testDF['hack'].unique(), yticklabels=testDF['hack'].unique())\n",
    "    plt.xlabel('true label')\n",
    "    plt.ylabel('predicted label')\n",
    "    plt.title(\"Confusion Matrix\")\n",
    "    plt.show()\n",
    "    plt.close()\n",
    "    \n",
    "def plotMultiROC(clf, testDF):\n",
    "    #By making the column names variables we can easily use this function on new data sets\n",
    "\n",
    "    #Get the names of each of the possible classes and the probabiltiess\n",
    "    classes = clf.classes_\n",
    "    try:\n",
    "        probs = clf.predict_proba(np.stack(testDF['vect'], axis=0))\n",
    "    except AttributeError:\n",
    "        print(\"The {} classifier does not apear to support prediction probabilties, so an ROC curve can't be created. You can try adding `probability = True` to the model specification or use a different model.\".format(type(clf)))\n",
    "        return\n",
    "    predictions = clf.predict(np.stack(testDF['vect'], axis=0))\n",
    "\n",
    "    #setup axis for plotting\n",
    "    fig, ax = plt.subplots(figsize = (10,10))\n",
    "\n",
    "    #We can return the AUC values, in case they are useful\n",
    "    aucVals = []\n",
    "    for classIndex, className in enumerate(classes):        #Setup binary classes\n",
    "        truths = [1 if c == className else 0 for c in testDF['hack']]\n",
    "        predict = [1 if c == className else 0 for c in predictions]\n",
    "        scores = probs[:, classIndex]\n",
    "\n",
    "        #Get the ROC curve\n",
    "        fpr, tpr, thresholds = sklearn.metrics.roc_curve(truths, scores)\n",
    "        auc = sklearn.metrics.auc(fpr, tpr)\n",
    "        aucVals.append(auc)\n",
    "\n",
    "        #Plot the class's line\n",
    "        ax.plot(fpr, tpr, label = \"{} (AUC ${:.3f}$)\".format(str(className).split(':')[0], auc))\n",
    "\n",
    "    #Make the plot nice, then display it\n",
    "    ax.set_title('Receiver Operating Characteristics')\n",
    "    plt.plot([0,1], [0,1], color = 'k', linestyle='--')\n",
    "    ax.set_xlabel('False Positive Rate')\n",
    "    ax.set_ylabel('True Positive Rate')\n",
    "    ax.legend(loc = 'lower right')\n",
    "    plt.show()\n",
    "    plt.close()\n",
    "    #return aucVals\n",
    "\n",
    "def plotregions(clf, df, h = .01):\n",
    "    if np.random.choice(df['vect']).shape[0] > 2:\n",
    "        pca = sklearn.decomposition.PCA(n_components = 2)\n",
    "        reduced_data = pca.fit_transform(np.stack(df['vect'], axis=0))\n",
    "        transformedDF = pd.DataFrame({'vect' : [r for r in reduced_data], 'hack' : df['hack']})\n",
    "    else:\n",
    "        transformedDF = df\n",
    "    catsMap = {c : i for i, c in enumerate(np.unique(df['hack']))}\n",
    "\n",
    "    fig, ax = plt.subplots(figsize = (10,10))\n",
    "    ax.axis('off')\n",
    "    pallet = seaborn.color_palette(palette='coolwarm', n_colors = len(set(transformedDF['hack'])))\n",
    "\n",
    "    if np.random.choice(df['vect']).shape[0] > 2:\n",
    "        xx, yy = np.meshgrid(np.arange(1.1 * reduced_data[:,0].min(),\n",
    "                1.1 * reduced_data[:,0].max(), h),\n",
    "            np.arange(1.1 * reduced_data[:,1].min(),\n",
    "                1.1 * reduced_data[:,1].max(), h))\n",
    "        Z = clf.predict(pca.inverse_transform(np.c_[xx.ravel(), yy.ravel()]))\n",
    "    else:\n",
    "        reduced_data = np.stack(df['vect'], axis=0)\n",
    "        xx, yy = np.meshgrid(np.arange(1.1 * reduced_data[:,0].min(),\n",
    "                1.1 * reduced_data[:,0].max(), h),\n",
    "            np.arange(1.1 * reduced_data[:,1].min(),\n",
    "                1.1 * reduced_data[:,1].max(), h))\n",
    "\n",
    "        Z = clf.predict(np.c_[xx.ravel(), yy.ravel()])\n",
    "    Z = np.vectorize(lambda x: catsMap[x])(Z)\n",
    "    Z = Z.reshape(xx.shape)\n",
    "    plt.contourf(xx, yy, Z, alpha=0.5, cmap=plt.cm.coolwarm)\n",
    "    for i, cat in enumerate(set(df['hack'])):\n",
    "        a = np.stack(transformedDF[transformedDF['hack'] == cat]['vect'])\n",
    "        ax.scatter(a[:,0], a[:, 1], c = pallet[catsMap[cat]], label = cat)\n",
    "    ax.legend(loc = 'center right', title = 'Categories')\n",
    "    plt.show()\n",
    "    plt.close()"
   ]
  },
  {
   "cell_type": "code",
   "execution_count": 125,
   "metadata": {},
   "outputs": [],
   "source": [
    "# for index, row in simple.iterrows():\n",
    "#     if type(row.text) is not str:\n",
    "#         print(row.text)\n",
    "#         print(index)\n",
    "simpl = generateVecs(simple)"
   ]
  },
  {
   "cell_type": "code",
   "execution_count": 126,
   "metadata": {
    "scrolled": false
   },
   "outputs": [
    {
     "data": {
      "text/html": [
       "<div>\n",
       "<style scoped>\n",
       "    .dataframe tbody tr th:only-of-type {\n",
       "        vertical-align: middle;\n",
       "    }\n",
       "\n",
       "    .dataframe tbody tr th {\n",
       "        vertical-align: top;\n",
       "    }\n",
       "\n",
       "    .dataframe thead th {\n",
       "        text-align: right;\n",
       "    }\n",
       "</style>\n",
       "<table border=\"1\" class=\"dataframe\">\n",
       "  <thead>\n",
       "    <tr style=\"text-align: right;\">\n",
       "      <th></th>\n",
       "      <th>nym</th>\n",
       "      <th>text</th>\n",
       "      <th>hack</th>\n",
       "      <th>tokenized_text</th>\n",
       "      <th>normalized_text</th>\n",
       "      <th>vect</th>\n",
       "    </tr>\n",
       "  </thead>\n",
       "  <tbody>\n",
       "    <tr>\n",
       "      <th>0</th>\n",
       "      <td>1488reasons</td>\n",
       "      <td>We don't vote in American elections. Americans...</td>\n",
       "      <td>1</td>\n",
       "      <td>[We, do, n't, vote, in, American, elections, ....</td>\n",
       "      <td>[vote, american, elect, american, care, think,...</td>\n",
       "      <td>[0.0, 0.0, 0.0, 0.0, 0.0, 0.0, 0.0, 0.0, 0.0, ...</td>\n",
       "    </tr>\n",
       "    <tr>\n",
       "      <th>1</th>\n",
       "      <td>316nuts</td>\n",
       "      <td>Why the 'Session' Beer Trend Makes Zero Sensew...</td>\n",
       "      <td>0</td>\n",
       "      <td>[Why, the, 'Session, ', Beer, Trend, Makes, Ze...</td>\n",
       "      <td>[whi, beer, trend, make, zero, senseway, pick,...</td>\n",
       "      <td>[0.0, 0.0, 0.0, 0.019383522617274652, 0.0, 0.0...</td>\n",
       "    </tr>\n",
       "    <tr>\n",
       "      <th>2</th>\n",
       "      <td>AdamSC1</td>\n",
       "      <td>Police chases white/black guyHow i see arabs b...</td>\n",
       "      <td>0</td>\n",
       "      <td>[Police, chases, white/black, guyHow, i, see, ...</td>\n",
       "      <td>[polic, chase, guyhow, see, arab, polic, reall...</td>\n",
       "      <td>[0.03618679565065152, 0.0, 0.0, 0.0, 0.0, 0.0,...</td>\n",
       "    </tr>\n",
       "    <tr>\n",
       "      <th>3</th>\n",
       "      <td>AddictedReddit</td>\n",
       "      <td>Yes, Islam is not a race, you are still a raci...</td>\n",
       "      <td>0</td>\n",
       "      <td>[Yes, ,, Islam, is, not, a, race, ,, you, are,...</td>\n",
       "      <td>[yes, islam, race, still, racistava, duvernay,...</td>\n",
       "      <td>[0.0, 0.0, 0.0, 0.0, 0.0, 0.0, 0.0, 0.0, 0.0, ...</td>\n",
       "    </tr>\n",
       "    <tr>\n",
       "      <th>4</th>\n",
       "      <td>AdoraronDoomworker</td>\n",
       "      <td>Failed robberyKjeragBolten, stone located betw...</td>\n",
       "      <td>1</td>\n",
       "      <td>[Failed, robberyKjeragBolten, ,, stone, locate...</td>\n",
       "      <td>[fail, robberykjeragbolten, stone, locat, two,...</td>\n",
       "      <td>[0.0, 0.0, 0.0, 0.0, 0.0, 0.0, 0.0, 0.0, 0.0, ...</td>\n",
       "    </tr>\n",
       "  </tbody>\n",
       "</table>\n",
       "</div>"
      ],
      "text/plain": [
       "                  nym                                               text  \\\n",
       "0         1488reasons  We don't vote in American elections. Americans...   \n",
       "1             316nuts  Why the 'Session' Beer Trend Makes Zero Sensew...   \n",
       "2             AdamSC1  Police chases white/black guyHow i see arabs b...   \n",
       "3      AddictedReddit  Yes, Islam is not a race, you are still a raci...   \n",
       "4  AdoraronDoomworker  Failed robberyKjeragBolten, stone located betw...   \n",
       "\n",
       "   hack                                     tokenized_text  \\\n",
       "0     1  [We, do, n't, vote, in, American, elections, ....   \n",
       "1     0  [Why, the, 'Session, ', Beer, Trend, Makes, Ze...   \n",
       "2     0  [Police, chases, white/black, guyHow, i, see, ...   \n",
       "3     0  [Yes, ,, Islam, is, not, a, race, ,, you, are,...   \n",
       "4     1  [Failed, robberyKjeragBolten, ,, stone, locate...   \n",
       "\n",
       "                                     normalized_text  \\\n",
       "0  [vote, american, elect, american, care, think,...   \n",
       "1  [whi, beer, trend, make, zero, senseway, pick,...   \n",
       "2  [polic, chase, guyhow, see, arab, polic, reall...   \n",
       "3  [yes, islam, race, still, racistava, duvernay,...   \n",
       "4  [fail, robberykjeragbolten, stone, locat, two,...   \n",
       "\n",
       "                                                vect  \n",
       "0  [0.0, 0.0, 0.0, 0.0, 0.0, 0.0, 0.0, 0.0, 0.0, ...  \n",
       "1  [0.0, 0.0, 0.0, 0.019383522617274652, 0.0, 0.0...  \n",
       "2  [0.03618679565065152, 0.0, 0.0, 0.0, 0.0, 0.0,...  \n",
       "3  [0.0, 0.0, 0.0, 0.0, 0.0, 0.0, 0.0, 0.0, 0.0, ...  \n",
       "4  [0.0, 0.0, 0.0, 0.0, 0.0, 0.0, 0.0, 0.0, 0.0, ...  "
      ]
     },
     "execution_count": 126,
     "metadata": {},
     "output_type": "execute_result"
    }
   ],
   "source": [
    "simpl.head()"
   ]
  },
  {
   "cell_type": "code",
   "execution_count": 127,
   "metadata": {},
   "outputs": [
    {
     "name": "stdout",
     "output_type": "stream",
     "text": [
      "2\n"
     ]
    }
   ],
   "source": [
    "count=0\n",
    "for index, row in simpl.iterrows():\n",
    "\n",
    "     if len(row.normalized_text)<1 and row.hack==1:\n",
    "        count=count+1\n",
    "#         print(index)\n",
    "#         print(row.text)\n",
    "print(count)"
   ]
  },
  {
   "cell_type": "code",
   "execution_count": 128,
   "metadata": {},
   "outputs": [],
   "source": [
    "simpl.to_pickle('C:\\\\Users\\\\Andrew\\\\Documents\\\\jupyter studies\\\\reddit\\\\accountTexts.pkl')"
   ]
  },
  {
   "cell_type": "code",
   "execution_count": 131,
   "metadata": {},
   "outputs": [
    {
     "name": "stdout",
     "output_type": "stream",
     "text": [
      "517\n"
     ]
    }
   ],
   "source": [
    "print(len(simpl))\n",
    "msk=np.random.rand(len(simpl)) < 0.8\n",
    "train = simpl[msk]\n",
    "test = simpl[~msk]"
   ]
  },
  {
   "cell_type": "code",
   "execution_count": 132,
   "metadata": {},
   "outputs": [
    {
     "data": {
      "text/plain": [
       "412"
      ]
     },
     "execution_count": 132,
     "metadata": {},
     "output_type": "execute_result"
    }
   ],
   "source": [
    "len(train)"
   ]
  },
  {
   "cell_type": "code",
   "execution_count": 133,
   "metadata": {},
   "outputs": [
    {
     "data": {
      "text/plain": [
       "153"
      ]
     },
     "execution_count": 133,
     "metadata": {},
     "output_type": "execute_result"
    }
   ],
   "source": [
    "len(train[train.hack==0])"
   ]
  },
  {
   "cell_type": "code",
   "execution_count": 134,
   "metadata": {},
   "outputs": [
    {
     "data": {
      "text/plain": [
       "259"
      ]
     },
     "execution_count": 134,
     "metadata": {},
     "output_type": "execute_result"
    }
   ],
   "source": [
    "len(train[train.hack==1])"
   ]
  },
  {
   "cell_type": "code",
   "execution_count": 135,
   "metadata": {},
   "outputs": [
    {
     "data": {
      "text/plain": [
       "38"
      ]
     },
     "execution_count": 135,
     "metadata": {},
     "output_type": "execute_result"
    }
   ],
   "source": [
    "len(test[test.hack==0])"
   ]
  },
  {
   "cell_type": "code",
   "execution_count": 136,
   "metadata": {},
   "outputs": [
    {
     "data": {
      "text/plain": [
       "67"
      ]
     },
     "execution_count": 136,
     "metadata": {},
     "output_type": "execute_result"
    }
   ],
   "source": [
    "len(test[test.hack==1])"
   ]
  },
  {
   "cell_type": "code",
   "execution_count": 137,
   "metadata": {},
   "outputs": [
    {
     "data": {
      "text/plain": [
       "105"
      ]
     },
     "execution_count": 137,
     "metadata": {},
     "output_type": "execute_result"
    }
   ],
   "source": [
    "len(test)"
   ]
  },
  {
   "cell_type": "code",
   "execution_count": 138,
   "metadata": {},
   "outputs": [],
   "source": [
    "#train.to_pickle('C:\\\\Users\\\\Andrew\\\\Documents\\\\jupyter studies\\\\reddit\\\\strain.pkl')"
   ]
  },
  {
   "cell_type": "code",
   "execution_count": 139,
   "metadata": {},
   "outputs": [],
   "source": [
    "#test.to_pickle('C:\\\\Users\\\\Andrew\\\\Documents\\\\jupyter studies\\\\reddit\\\\stest.pkl')"
   ]
  },
  {
   "cell_type": "code",
   "execution_count": 1,
   "metadata": {},
   "outputs": [],
   "source": [
    "#naive bayes classifier:"
   ]
  },
  {
   "cell_type": "code",
   "execution_count": 140,
   "metadata": {},
   "outputs": [],
   "source": [
    "naive = sklearn.naive_bayes.GaussianNB()"
   ]
  },
  {
   "cell_type": "code",
   "execution_count": 141,
   "metadata": {},
   "outputs": [
    {
     "data": {
      "text/plain": [
       "GaussianNB(priors=None)"
      ]
     },
     "execution_count": 141,
     "metadata": {},
     "output_type": "execute_result"
    }
   ],
   "source": [
    "naive.fit(np.stack(train['vect'], axis=0), train['hack'])"
   ]
  },
  {
   "cell_type": "code",
   "execution_count": 142,
   "metadata": {
    "scrolled": true
   },
   "outputs": [
    {
     "data": {
      "text/html": [
       "<div>\n",
       "<style scoped>\n",
       "    .dataframe tbody tr th:only-of-type {\n",
       "        vertical-align: middle;\n",
       "    }\n",
       "\n",
       "    .dataframe tbody tr th {\n",
       "        vertical-align: top;\n",
       "    }\n",
       "\n",
       "    .dataframe thead th {\n",
       "        text-align: right;\n",
       "    }\n",
       "</style>\n",
       "<table border=\"1\" class=\"dataframe\">\n",
       "  <thead>\n",
       "    <tr style=\"text-align: right;\">\n",
       "      <th></th>\n",
       "      <th>AUC</th>\n",
       "      <th>Average_Precision</th>\n",
       "      <th>Error_Rate</th>\n",
       "      <th>Precision</th>\n",
       "      <th>Recall</th>\n",
       "    </tr>\n",
       "    <tr>\n",
       "      <th>hack</th>\n",
       "      <th></th>\n",
       "      <th></th>\n",
       "      <th></th>\n",
       "      <th></th>\n",
       "      <th></th>\n",
       "    </tr>\n",
       "  </thead>\n",
       "  <tbody>\n",
       "    <tr>\n",
       "      <th>0</th>\n",
       "      <td>0.518068</td>\n",
       "      <td>0.370484</td>\n",
       "      <td>0.571429</td>\n",
       "      <td>0.372093</td>\n",
       "      <td>0.842105</td>\n",
       "    </tr>\n",
       "    <tr>\n",
       "      <th>1</th>\n",
       "      <td>0.518068</td>\n",
       "      <td>0.647043</td>\n",
       "      <td>0.571429</td>\n",
       "      <td>0.684211</td>\n",
       "      <td>0.194030</td>\n",
       "    </tr>\n",
       "  </tbody>\n",
       "</table>\n",
       "</div>"
      ],
      "text/plain": [
       "           AUC  Average_Precision  Error_Rate  Precision    Recall\n",
       "hack                                                              \n",
       "0     0.518068           0.370484    0.571429   0.372093  0.842105\n",
       "1     0.518068           0.647043    0.571429   0.684211  0.194030"
      ]
     },
     "execution_count": 142,
     "metadata": {},
     "output_type": "execute_result"
    }
   ],
   "source": [
    "evaluateClassifier(naive, test)"
   ]
  },
  {
   "cell_type": "code",
   "execution_count": 143,
   "metadata": {},
   "outputs": [
    {
     "data": {
      "image/png": "[encoded data removed]",
      "text/plain": [
       "<matplotlib.figure.Figure at 0x26293da6f98>"
      ]
     },
     "metadata": {},
     "output_type": "display_data"
    }
   ],
   "source": [
    "plotConfusionMatrix(naive, test)"
   ]
  },
  {
   "cell_type": "code",
   "execution_count": 144,
   "metadata": {},
   "outputs": [
    {
     "data": {
      "image/png": "[encoded data removed]",
      "text/plain": [
       "<matplotlib.figure.Figure at 0x2629acda940>"
      ]
     },
     "metadata": {},
     "output_type": "display_data"
    }
   ],
   "source": [
    "plotMultiROC(naive, test)"
   ]
  },
  {
   "cell_type": "code",
   "execution_count": 145,
   "metadata": {
    "scrolled": true
   },
   "outputs": [
    {
     "data": {
      "image/png": "[encoded data removed]",
      "text/plain": [
       "<matplotlib.figure.Figure at 0x2629ad5f668>"
      ]
     },
     "metadata": {},
     "output_type": "display_data"
    }
   ],
   "source": [
    "plotregions(naive, test)"
   ]
  },
  {
   "cell_type": "markdown",
   "metadata": {},
   "source": [
    "sklearn neural network:"
   ]
  },
  {
   "cell_type": "code",
   "execution_count": 146,
   "metadata": {},
   "outputs": [],
   "source": [
    "neuro = sklearn.neural_network.MLPClassifier()"
   ]
  },
  {
   "cell_type": "code",
   "execution_count": 147,
   "metadata": {},
   "outputs": [
    {
     "data": {
      "text/plain": [
       "MLPClassifier(activation='relu', alpha=0.0001, batch_size='auto', beta_1=0.9,\n",
       "       beta_2=0.999, early_stopping=False, epsilon=1e-08,\n",
       "       hidden_layer_sizes=(100,), learning_rate='constant',\n",
       "       learning_rate_init=0.001, max_iter=200, momentum=0.9,\n",
       "       nesterovs_momentum=True, power_t=0.5, random_state=None,\n",
       "       shuffle=True, solver='adam', tol=0.0001, validation_fraction=0.1,\n",
       "       verbose=False, warm_start=False)"
      ]
     },
     "execution_count": 147,
     "metadata": {},
     "output_type": "execute_result"
    }
   ],
   "source": [
    "neuro.fit(np.stack(train['vect'], axis=0), train['hack'])"
   ]
  },
  {
   "cell_type": "code",
   "execution_count": 148,
   "metadata": {},
   "outputs": [
    {
     "data": {
      "text/html": [
       "<div>\n",
       "<style scoped>\n",
       "    .dataframe tbody tr th:only-of-type {\n",
       "        vertical-align: middle;\n",
       "    }\n",
       "\n",
       "    .dataframe tbody tr th {\n",
       "        vertical-align: top;\n",
       "    }\n",
       "\n",
       "    .dataframe thead th {\n",
       "        text-align: right;\n",
       "    }\n",
       "</style>\n",
       "<table border=\"1\" class=\"dataframe\">\n",
       "  <thead>\n",
       "    <tr style=\"text-align: right;\">\n",
       "      <th></th>\n",
       "      <th>AUC</th>\n",
       "      <th>Average_Precision</th>\n",
       "      <th>Error_Rate</th>\n",
       "      <th>Precision</th>\n",
       "      <th>Recall</th>\n",
       "    </tr>\n",
       "    <tr>\n",
       "      <th>hack</th>\n",
       "      <th></th>\n",
       "      <th></th>\n",
       "      <th></th>\n",
       "      <th></th>\n",
       "      <th></th>\n",
       "    </tr>\n",
       "  </thead>\n",
       "  <tbody>\n",
       "    <tr>\n",
       "      <th>0</th>\n",
       "      <td>0.610369</td>\n",
       "      <td>0.429269</td>\n",
       "      <td>0.380952</td>\n",
       "      <td>0.478261</td>\n",
       "      <td>0.578947</td>\n",
       "    </tr>\n",
       "    <tr>\n",
       "      <th>1</th>\n",
       "      <td>0.610369</td>\n",
       "      <td>0.696317</td>\n",
       "      <td>0.380952</td>\n",
       "      <td>0.728814</td>\n",
       "      <td>0.641791</td>\n",
       "    </tr>\n",
       "  </tbody>\n",
       "</table>\n",
       "</div>"
      ],
      "text/plain": [
       "           AUC  Average_Precision  Error_Rate  Precision    Recall\n",
       "hack                                                              \n",
       "0     0.610369           0.429269    0.380952   0.478261  0.578947\n",
       "1     0.610369           0.696317    0.380952   0.728814  0.641791"
      ]
     },
     "execution_count": 148,
     "metadata": {},
     "output_type": "execute_result"
    }
   ],
   "source": [
    "evaluateClassifier(neuro, test)"
   ]
  },
  {
   "cell_type": "code",
   "execution_count": 149,
   "metadata": {},
   "outputs": [
    {
     "data": {
      "image/png": "[encoded data removed]",
      "text/plain": [
       "<matplotlib.figure.Figure at 0x2629acbe0f0>"
      ]
     },
     "metadata": {},
     "output_type": "display_data"
    }
   ],
   "source": [
    "plotConfusionMatrix(neuro, test)"
   ]
  },
  {
   "cell_type": "code",
   "execution_count": 150,
   "metadata": {},
   "outputs": [
    {
     "data": {
      "image/png": "[encoded data removed]",
      "text/plain": [
       "<matplotlib.figure.Figure at 0x2629ac8c080>"
      ]
     },
     "metadata": {},
     "output_type": "display_data"
    }
   ],
   "source": [
    "plotMultiROC(neuro, test)"
   ]
  },
  {
   "cell_type": "code",
   "execution_count": 151,
   "metadata": {},
   "outputs": [
    {
     "data": {
      "image/png": "[encoded data removed]",
      "text/plain": [
       "<matplotlib.figure.Figure at 0x2629aa4a8d0>"
      ]
     },
     "metadata": {},
     "output_type": "display_data"
    }
   ],
   "source": [
    "plotregions(neuro, test)"
   ]
  }
 ],
 "metadata": {
  "kernelspec": {
   "display_name": "Python 3",
   "language": "python",
   "name": "python3"
  },
  "language_info": {
   "codemirror_mode": {
    "name": "ipython",
    "version": 3
   },
   "file_extension": ".py",
   "mimetype": "text/x-python",
   "name": "python",
   "nbconvert_exporter": "python",
   "pygments_lexer": "ipython3",
   "version": "3.6.2"
  }
 },
 "nbformat": 4,
 "nbformat_minor": 2
}
